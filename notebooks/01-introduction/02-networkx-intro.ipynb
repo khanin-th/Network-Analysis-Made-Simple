{
 "cells": [
  {
   "cell_type": "code",
   "execution_count": 1,
   "metadata": {},
   "outputs": [],
   "source": [
    "%load_ext autoreload\n",
    "%autoreload 2\n",
    "%matplotlib inline\n",
    "%config InlineBackend.figure_format = 'retina'"
   ]
  },
  {
   "cell_type": "markdown",
   "metadata": {
    "slideshow": {
     "slide_type": "slide"
    }
   },
   "source": [
    "## Introduction"
   ]
  },
  {
   "cell_type": "code",
   "execution_count": null,
   "metadata": {},
   "outputs": [],
   "source": [
    "from IPython.display import YouTubeVideo\n",
    "\n",
    "YouTubeVideo(id='sdF0uJo2KdU', width=\"100%\")"
   ]
  },
  {
   "cell_type": "markdown",
   "metadata": {
    "slideshow": {
     "slide_type": "slide"
    }
   },
   "source": [
    "In this chapter, we will introduce you to the NetworkX API.\n",
    "This will allow you to create and manipulate graphs in your computer memory,\n",
    "thus giving you a language \n",
    "to more concretely explore graph theory ideas.\n",
    "\n",
    "Throughout the book, we will be using different graph datasets\n",
    "to help us anchor ideas.\n",
    "In this section, we will work with a social network of seventh graders.\n",
    "Here, nodes are individual students,\n",
    "and edges represent their relationships.\n",
    "Edges between individuals show how often\n",
    "the seventh graders indicated other seventh graders as their favourite.\n",
    "\n",
    "The data are taken from the [Konect] graph data repository\n",
    "\n",
    "[Konect]: http://konect.uni-koblenz.de/networks/moreno_seventh"
   ]
  },
  {
   "cell_type": "markdown",
   "metadata": {
    "slideshow": {
     "slide_type": "slide"
    }
   },
   "source": [
    "## Data Model\n",
    "\n",
    "In NetworkX, graph data are stored in a dictionary-like fashion.\n",
    "They are placed under a `Graph` object,\n",
    "canonically instantiated with the variable `G` as follows:\n",
    "\n",
    "```python\n",
    "G = nx.Graph()\n",
    "```\n",
    "\n",
    "Of course, you are free to name the graph anything you want!\n",
    "\n",
    "Nodes are part of the attribute `G.nodes`.\n",
    "There, the node data are housed in a dictionary-like container,\n",
    "where the key is the node ID\n",
    "and the values are a dictionary of attributes. \n",
    "Node data are accessible using syntax that looks like:\n",
    "\n",
    "```python\n",
    "G.nodes[node1]\n",
    "```\n",
    "\n",
    "Edges are part of the attribute `G.edges`,\n",
    "which is also stored in a dictionary-like container.\n",
    "Edge data are accessible using syntax that looks like: \n",
    "\n",
    "```python\n",
    "G.edges[node1, node2]['attr_name']\n",
    "```\n",
    "Because of the dictionary-like implementation of the graph,\n",
    "any hashable object can be a node.\n",
    "This means strings and tuples, but not lists and sets."
   ]
  },
  {
   "cell_type": "markdown",
   "metadata": {
    "slideshow": {
     "slide_type": "slide"
    }
   },
   "source": [
    "## Load Data\n",
    "\n",
    "Let's load some real network data to get a feel for the NetworkX API. This [dataset](http://konect.uni-koblenz.de/networks/moreno_seventh) comes from a study of 7th grade students.\n",
    "\n",
    "> This directed network contains proximity ratings between students\n",
    "> from 29 seventh grade students from a school in Victoria.\n",
    "> Among other questions the students were asked\n",
    "> to nominate their preferred classmates for three different activities.\n",
    "> A node represents a student.\n",
    "> An edge between two nodes shows that\n",
    "> the left student picked the right student as his or her answer.\n",
    "> The edge weights are between 1 and 3 \n",
    "> and show how often the left student chose the right student as his/her favourite.\n",
    "\n",
    "In the original dataset, students were from an all-boys school.\n",
    "However, I have modified the dataset to instead be a mixed-gender school."
   ]
  },
  {
   "cell_type": "code",
   "execution_count": 21,
   "metadata": {
    "slideshow": {
     "slide_type": "slide"
    }
   },
   "outputs": [],
   "source": [
    "import networkx as nx\n",
    "from datetime import datetime\n",
    "import matplotlib.pyplot as plt\n",
    "import numpy as np\n",
    "import warnings\n",
    "# from nams import load_data as cf\n",
    "import nams.load_data as cf\n",
    "# G = SourceFileLoader(\"load_seventh_grader_network\", r\"C:\\Users\\pui_s\\Documents\\concordia-bootcamps\\Network-Analysis-Made-Simple\\nams\\load_data.py\").load_module()\n",
    "\n",
    "warnings.filterwarnings('ignore')"
   ]
  },
  {
   "cell_type": "code",
   "execution_count": 22,
   "metadata": {
    "slideshow": {
     "slide_type": "fragment"
    }
   },
   "outputs": [],
   "source": [
    "G = cf.load_seventh_grader_network()"
   ]
  },
  {
   "cell_type": "markdown",
   "metadata": {
    "slideshow": {
     "slide_type": "slide"
    }
   },
   "source": [
    "## Understanding a graph's basic statistics\n",
    "\n",
    "When you get graph data,\n",
    "one of the first things you'll want to do is to\n",
    "check its basic graph statistics:\n",
    "the number of nodes\n",
    "and the number of edges\n",
    "that are represented in the graph.\n",
    "This is a basic sanity-check on your data\n",
    "that you don't want to skip out on.\n",
    "\n",
    "### Querying graph type\n",
    "\n",
    "The first thing you need to know is the `type` of the graph:"
   ]
  },
  {
   "cell_type": "code",
   "execution_count": 23,
   "metadata": {},
   "outputs": [
    {
     "data": {
      "text/plain": [
       "networkx.classes.digraph.DiGraph"
      ]
     },
     "execution_count": 23,
     "metadata": {},
     "output_type": "execute_result"
    }
   ],
   "source": [
    "type(G)"
   ]
  },
  {
   "cell_type": "markdown",
   "metadata": {},
   "source": [
    "Because the graph is a `DiGraph`,\n",
    "this tells us that the graph is a **directed** one.\n",
    "\n",
    "If it were undirected, the type would change:"
   ]
  },
  {
   "cell_type": "code",
   "execution_count": null,
   "metadata": {},
   "outputs": [],
   "source": [
    "H = nx.Graph()\n",
    "type(H)"
   ]
  },
  {
   "cell_type": "markdown",
   "metadata": {},
   "source": [
    "### Querying node information\n",
    "\n",
    "Let's now query for the nodeset:"
   ]
  },
  {
   "cell_type": "code",
   "execution_count": 25,
   "metadata": {},
   "outputs": [
    {
     "data": {
      "text/plain": [
       "NodeView((1, 2, 3, 4, 5, 6, 7, 8, 9, 10, 11, 12, 13, 14, 15, 16, 17, 18, 19, 20, 21, 22, 23, 24, 25, 26, 27, 28, 29))"
      ]
     },
     "execution_count": 25,
     "metadata": {},
     "output_type": "execute_result"
    }
   ],
   "source": [
    "G.nodes()\n",
    "# note the NodeView object"
   ]
  },
  {
   "cell_type": "code",
   "execution_count": 24,
   "metadata": {},
   "outputs": [
    {
     "data": {
      "text/plain": [
       "[1, 2, 3, 4, 5]"
      ]
     },
     "execution_count": 24,
     "metadata": {},
     "output_type": "execute_result"
    }
   ],
   "source": [
    "list(G.nodes())[0:5]"
   ]
  },
  {
   "cell_type": "markdown",
   "metadata": {},
   "source": [
    "`G.nodes()` returns a \"view\" on the nodes.\n",
    "We can't actually slice into the view and grab out a sub-selection,\n",
    "but we can _at least_ see what nodes are present.\n",
    "For brevity, we have sliced into `G.nodes()` passed into a `list()` constructor,\n",
    "so that we don't pollute the output.\n",
    "Because a `NodeView` is iterable, though,\n",
    "we can query it for its length:"
   ]
  },
  {
   "cell_type": "code",
   "execution_count": 26,
   "metadata": {},
   "outputs": [
    {
     "data": {
      "text/plain": [
       "29"
      ]
     },
     "execution_count": 26,
     "metadata": {},
     "output_type": "execute_result"
    }
   ],
   "source": [
    "len(G.nodes())"
   ]
  },
  {
   "cell_type": "code",
   "execution_count": 27,
   "metadata": {},
   "outputs": [
    {
     "data": {
      "text/plain": [
       "29"
      ]
     },
     "execution_count": 27,
     "metadata": {},
     "output_type": "execute_result"
    }
   ],
   "source": [
    "len(G)"
   ]
  },
  {
   "cell_type": "code",
   "execution_count": 31,
   "metadata": {},
   "outputs": [
    {
     "data": {
      "text/plain": [
       "376"
      ]
     },
     "execution_count": 31,
     "metadata": {},
     "output_type": "execute_result"
    }
   ],
   "source": [
    "# how many edges are here\n",
    "len(G.edges())"
   ]
  },
  {
   "cell_type": "markdown",
   "metadata": {},
   "source": [
    "If our nodes have metadata attached to them,\n",
    "we can view the metadata at the same time\n",
    "by passing in `data=True`:"
   ]
  },
  {
   "cell_type": "code",
   "execution_count": 32,
   "metadata": {},
   "outputs": [
    {
     "data": {
      "text/plain": [
       "NodeDataView({1: {'gender': 'male'}, 2: {'gender': 'male'}, 3: {'gender': 'male'}, 4: {'gender': 'male'}, 5: {'gender': 'male'}, 6: {'gender': 'male'}, 7: {'gender': 'male'}, 8: {'gender': 'female'}, 9: {'gender': 'female'}, 10: {'gender': 'female'}, 11: {'gender': 'female'}, 12: {'gender': 'female'}, 13: {'gender': 'female'}, 14: {'gender': 'female'}, 15: {'gender': 'female'}, 16: {'gender': 'male'}, 17: {'gender': 'male'}, 18: {'gender': 'male'}, 19: {'gender': 'male'}, 20: {'gender': 'female'}, 21: {'gender': 'female'}, 22: {'gender': 'male'}, 23: {'gender': 'female'}, 24: {'gender': 'female'}, 25: {'gender': 'female'}, 26: {'gender': 'female'}, 27: {'gender': 'female'}, 28: {'gender': 'female'}, 29: {'gender': 'female'}})"
      ]
     },
     "execution_count": 32,
     "metadata": {},
     "output_type": "execute_result"
    }
   ],
   "source": [
    "G.nodes(data=True)"
   ]
  },
  {
   "cell_type": "code",
   "execution_count": 29,
   "metadata": {},
   "outputs": [
    {
     "data": {
      "text/plain": [
       "[(1, {'gender': 'male'}),\n",
       " (2, {'gender': 'male'}),\n",
       " (3, {'gender': 'male'}),\n",
       " (4, {'gender': 'male'}),\n",
       " (5, {'gender': 'male'})]"
      ]
     },
     "execution_count": 29,
     "metadata": {},
     "output_type": "execute_result"
    }
   ],
   "source": [
    "list(G.nodes(data=True))[0:5]\n",
    "# G.edges()"
   ]
  },
  {
   "cell_type": "markdown",
   "metadata": {},
   "source": [
    "G.nodes(data=True) returns a `NodeDataView`,\n",
    "which you can see is dictionary-like.\n",
    "\n",
    "Additionally, we can select out individual nodes:"
   ]
  },
  {
   "cell_type": "code",
   "execution_count": null,
   "metadata": {},
   "outputs": [],
   "source": [
    "G.nodes[1]"
   ]
  },
  {
   "cell_type": "markdown",
   "metadata": {},
   "source": [
    "Now, because a `NodeDataView` is dictionary-like,\n",
    "looping over `G.nodes(data=True)`\n",
    "is very much like looping over key-value pairs of a dictionary.\n",
    "As such, we can write things like:\n",
    "\n",
    "```python\n",
    "for n, d in G.nodes(data=True):\n",
    "    # n is the node\n",
    "    # d is the metadata dictionary\n",
    "    ...\n",
    "```\n",
    "\n",
    "This is analogous to how we would loop over a dictionary:\n",
    "\n",
    "```python\n",
    "for k, v in dictionary.items():\n",
    "    # do stuff in the loop\n",
    "```\n",
    "\n",
    "Naturally, this leads us to our first exercise.\n",
    "\n",
    "### Exercise: Summarizing node metadata\n",
    "\n",
    "> Can you count how many males and females are represented in the graph?"
   ]
  },
  {
   "cell_type": "code",
   "execution_count": 78,
   "metadata": {},
   "outputs": [
    {
     "data": {
      "text/plain": [
       "NodeDataView({1: {'gender': 'male'}, 2: {'gender': 'male'}, 3: {'gender': 'male'}, 4: {'gender': 'male'}, 5: {'gender': 'male'}, 6: {'gender': 'male'}, 7: {'gender': 'male'}, 8: {'gender': 'female'}, 9: {'gender': 'female'}, 10: {'gender': 'female'}, 11: {'gender': 'female'}, 12: {'gender': 'female'}, 13: {'gender': 'female'}, 14: {'gender': 'female'}, 15: {'gender': 'female'}, 16: {'gender': 'male'}, 17: {'gender': 'male'}, 18: {'gender': 'male'}, 19: {'gender': 'male'}, 20: {'gender': 'female'}, 21: {'gender': 'female'}, 22: {'gender': 'male'}, 23: {'gender': 'female'}, 24: {'gender': 'female'}, 25: {'gender': 'female'}, 26: {'gender': 'female'}, 27: {'gender': 'female'}, 28: {'gender': 'female'}, 29: {'gender': 'female'}})"
      ]
     },
     "execution_count": 78,
     "metadata": {},
     "output_type": "execute_result"
    }
   ],
   "source": [
    "G.nodes(data=True)"
   ]
  },
  {
   "cell_type": "code",
   "execution_count": 75,
   "metadata": {},
   "outputs": [],
   "source": [
    "# import sys\n",
    "# sys.path.insert(0, 'C:\\\\Users\\\\pui_s\\\\Documents\\\\concordia-bootcamps\\\\Network-Analysis-Made-Simple\\\\nams\\\\solutions')\n",
    "import intro\n",
    "\n",
    "#### REPLACE THE NEXT LINE WITH YOUR ANSWER\n",
    "# mf_counts = intro.node_metadata(G)\n",
    "from collections import Counter \n",
    "mf_counts = Counter([d['gender'] for n,d in G.nodes(data=True)])\n",
    "# a list created through list comprehesion, and \n",
    "# COunter was used to count number of each instance"
   ]
  },
  {
   "cell_type": "markdown",
   "metadata": {},
   "source": [
    "Test your implementation by checking it against the `test_answer` function below."
   ]
  },
  {
   "cell_type": "code",
   "execution_count": 76,
   "metadata": {},
   "outputs": [
    {
     "data": {
      "text/plain": [
       "Counter({'male': 12, 'female': 17})"
      ]
     },
     "execution_count": 76,
     "metadata": {},
     "output_type": "execute_result"
    }
   ],
   "source": [
    "mf_counts"
   ]
  },
  {
   "cell_type": "code",
   "execution_count": 73,
   "metadata": {
    "slideshow": {
     "slide_type": "fragment"
    }
   },
   "outputs": [],
   "source": [
    "from typing import Dict\n",
    "\n",
    "\n",
    "\n",
    "def test_answer(mf_counts: Dict):\n",
    "    assert mf_counts['female'] == 17\n",
    "    assert mf_counts['male'] == 12\n",
    "    \n",
    "test_answer(mf_counts)"
   ]
  },
  {
   "cell_type": "markdown",
   "metadata": {},
   "source": [
    "With this dictionary-like syntax,\n",
    "we can query back the metadata that's associated with any node."
   ]
  },
  {
   "cell_type": "markdown",
   "metadata": {},
   "source": [
    "### Querying edge information\n",
    "\n",
    "Now that you've learned how to query for node information,\n",
    "let's now see how to query for all of the edges in the graph:"
   ]
  },
  {
   "cell_type": "code",
   "execution_count": 83,
   "metadata": {},
   "outputs": [
    {
     "data": {
      "text/plain": [
       "[(1, 2), (1, 3), (1, 4), (1, 5), (1, 6)]"
      ]
     },
     "execution_count": 83,
     "metadata": {},
     "output_type": "execute_result"
    }
   ],
   "source": [
    "list(G.edges())[0:5]"
   ]
  },
  {
   "cell_type": "markdown",
   "metadata": {},
   "source": [
    "Similar to the `NodeView`, `G.edges()` returns an `EdgeView` that is also iterable.\n",
    "As with above, we have abbreviated the output inside a sliced list\n",
    "to keep things readable.\n",
    "Because `G.edges()` is iterable, we can get its length to see the number of edges\n",
    "that are present in a graph."
   ]
  },
  {
   "cell_type": "code",
   "execution_count": 81,
   "metadata": {},
   "outputs": [
    {
     "data": {
      "text/plain": [
       "376"
      ]
     },
     "execution_count": 81,
     "metadata": {},
     "output_type": "execute_result"
    }
   ],
   "source": [
    "len(G.edges())"
   ]
  },
  {
   "cell_type": "markdown",
   "metadata": {},
   "source": [
    "Likewise, we can also query for all of the edge's metadata:"
   ]
  },
  {
   "cell_type": "code",
   "execution_count": 82,
   "metadata": {},
   "outputs": [
    {
     "data": {
      "text/plain": [
       "[(1, 2, {'count': 1}),\n",
       " (1, 3, {'count': 1}),\n",
       " (1, 4, {'count': 2}),\n",
       " (1, 5, {'count': 2}),\n",
       " (1, 6, {'count': 3})]"
      ]
     },
     "execution_count": 82,
     "metadata": {},
     "output_type": "execute_result"
    }
   ],
   "source": [
    "list(G.edges(data=True))[0:5]"
   ]
  },
  {
   "cell_type": "markdown",
   "metadata": {},
   "source": [
    "Additionally, it is possible for us to select out individual edges, as long as they exist in the graph:"
   ]
  },
  {
   "cell_type": "code",
   "execution_count": 84,
   "metadata": {},
   "outputs": [
    {
     "data": {
      "text/plain": [
       "{'count': 2}"
      ]
     },
     "execution_count": 84,
     "metadata": {},
     "output_type": "execute_result"
    }
   ],
   "source": [
    "G.edges[15, 10]"
   ]
  },
  {
   "cell_type": "markdown",
   "metadata": {},
   "source": [
    "This yields the metadata dictionary for that edge.\n",
    "\n",
    "If the edge does not exist, then we get an error:\n",
    "\n",
    "```python\n",
    ">>> G.edges[15, 16]\n",
    "```\n",
    "\n",
    "```python\n",
    "---------------------------------------------------------------------------\n",
    "KeyError                                  Traceback (most recent call last)\n",
    "<ipython-input-21-ce014cab875a> in <module>\n",
    "----> 1 G.edges[15, 16]\n",
    "\n",
    "~/anaconda/envs/nams/lib/python3.7/site-packages/networkx/classes/reportviews.py in __getitem__(self, e)\n",
    "    928     def __getitem__(self, e):\n",
    "    929         u, v = e\n",
    "--> 930         return self._adjdict[u][v]\n",
    "    931 \n",
    "    932     # EdgeDataView methods\n",
    "\n",
    "KeyError: 16\n",
    "```"
   ]
  },
  {
   "cell_type": "markdown",
   "metadata": {},
   "source": [
    "As with the `NodeDataView`, the `EdgeDataView` is dictionary-like,\n",
    "with the difference being that the keys are 2-tuple-like\n",
    "instead of being single hashable objects.\n",
    "Thus, we can write syntax like the following to loop over the edgelist:\n",
    "\n",
    "```python\n",
    "for n1, n2, d in G.edges(data=True):\n",
    "    # n1, n2 are the nodes\n",
    "    # d is the metadata dictionary\n",
    "    ...\n",
    "```\n",
    "\n",
    "Naturally, this leads us to our next exercise."
   ]
  },
  {
   "cell_type": "markdown",
   "metadata": {},
   "source": [
    "### Exercise: Summarizing edge metadata\n",
    "\n",
    "> Can you write code to verify\n",
    "> that the maximum times any student rated another student as their favourite\n",
    "> is 3 times?"
   ]
  },
  {
   "cell_type": "code",
   "execution_count": 85,
   "metadata": {},
   "outputs": [],
   "source": [
    "# from nams.solutions.intro import edge_metadata\n",
    "\n",
    "#### REPLACE THE NEXT LINE WITH YOUR ANSWER\n",
    "maxcount = intro.edge_metadata(G)"
   ]
  },
  {
   "cell_type": "code",
   "execution_count": 86,
   "metadata": {},
   "outputs": [
    {
     "data": {
      "text/plain": [
       "3"
      ]
     },
     "execution_count": 86,
     "metadata": {},
     "output_type": "execute_result"
    }
   ],
   "source": [
    "maxcount"
   ]
  },
  {
   "cell_type": "code",
   "execution_count": 92,
   "metadata": {},
   "outputs": [],
   "source": [
    "counts = [d['count'] for _, _, d in G.edges(data=True)]\n",
    "maxcount = max(counts)"
   ]
  },
  {
   "cell_type": "code",
   "execution_count": 93,
   "metadata": {},
   "outputs": [
    {
     "data": {
      "text/plain": [
       "3"
      ]
     },
     "execution_count": 93,
     "metadata": {},
     "output_type": "execute_result"
    }
   ],
   "source": [
    "maxcount"
   ]
  },
  {
   "cell_type": "markdown",
   "metadata": {},
   "source": [
    "Likewise, you can test your answer using the test function below:"
   ]
  },
  {
   "cell_type": "code",
   "execution_count": 91,
   "metadata": {},
   "outputs": [],
   "source": [
    "def test_maxcount(maxcount):\n",
    "    assert maxcount == 3\n",
    "    \n",
    "test_maxcount(maxcount)"
   ]
  },
  {
   "cell_type": "markdown",
   "metadata": {},
   "source": [
    "This is like data verification. You usually know description of data, and this is onbe of many ways to automate and verify that data hasn't been corrupted !!"
   ]
  },
  {
   "cell_type": "markdown",
   "metadata": {},
   "source": [
    "## Manipulating the graph\n",
    "\n",
    "Great stuff! You now know how to query a graph for:\n",
    "\n",
    "- its node set, optionally including metadata\n",
    "- individual node metadata\n",
    "- its edge set, optionally including metadata, and \n",
    "- individual edges' metadata\n",
    "\n",
    "Now, let's learn how to manipulate the graph.\n",
    "Specifically, we'll learn how to add nodes and edges to a graph.\n",
    "\n",
    "### Adding Nodes\n",
    "\n",
    "The NetworkX graph API lets you add a node easily:\n",
    "\n",
    "```python\n",
    "G.add_node(node, node_data1=some_value, node_data2=some_value)\n",
    "```\n",
    "\n",
    "### Adding Edges\n",
    "\n",
    "It also allows you to add an edge easily:\n",
    "\n",
    "```python\n",
    "G.add_edge(node1, node2, edge_data1=some_value, edge_data2=some_value)\n",
    "```\n",
    "\n",
    "### Metadata by Keyword Arguments\n",
    "\n",
    "In both cases, the keyword arguments that are passed into `.add_node()`\n",
    "are automatically collected into the metadata dictionary.\n",
    "\n",
    "Knowing this gives you enough knowledge to tackle the next exercise.\n",
    "\n",
    "### Exercise: adding students to the graph\n",
    "\n",
    "> We found out that there are two students that we left out of the network,\n",
    "> student no. 30 and 31. \n",
    "> They are one male (30) and one female (31), \n",
    "> and they are a pair that just love hanging out with one another \n",
    "> and with individual 7 (i.e. `count=3`), in both directions per pair. \n",
    "> Add this information to the graph."
   ]
  },
  {
   "cell_type": "code",
   "execution_count": null,
   "metadata": {},
   "outputs": [],
   "source": [
    "# from nams.solutions.intro import adding_students\n",
    "\n",
    "#### REPLACE THE NEXT LINE WITH YOUR ANSWER\n",
    "G = intro.adding_students(G)"
   ]
  },
  {
   "cell_type": "code",
   "execution_count": 100,
   "metadata": {},
   "outputs": [
    {
     "data": {
      "text/plain": [
       "NodeDataView({1: {'gender': 'male'}, 2: {'gender': 'male'}, 3: {'gender': 'male'}, 4: {'gender': 'male'}, 5: {'gender': 'male'}, 6: {'gender': 'male'}, 7: {'gender': 'male'}, 8: {'gender': 'female'}, 9: {'gender': 'female'}, 10: {'gender': 'female'}, 11: {'gender': 'female'}, 12: {'gender': 'female'}, 13: {'gender': 'female'}, 14: {'gender': 'female'}, 15: {'gender': 'female'}, 16: {'gender': 'male'}, 17: {'gender': 'male'}, 18: {'gender': 'male'}, 19: {'gender': 'male'}, 20: {'gender': 'female'}, 21: {'gender': 'female'}, 22: {'gender': 'male'}, 23: {'gender': 'female'}, 24: {'gender': 'female'}, 25: {'gender': 'female'}, 26: {'gender': 'female'}, 27: {'gender': 'female'}, 28: {'gender': 'female'}, 29: {'gender': 'female'}})"
      ]
     },
     "execution_count": 100,
     "metadata": {},
     "output_type": "execute_result"
    }
   ],
   "source": [
    "G.nodes(data=True)"
   ]
  },
  {
   "cell_type": "code",
   "execution_count": 101,
   "metadata": {
    "scrolled": true
   },
   "outputs": [
    {
     "data": {
      "text/plain": [
       "OutEdgeDataView([(1, 2, {'count': 1}), (1, 3, {'count': 1}), (1, 4, {'count': 2}), (1, 5, {'count': 2}), (1, 6, {'count': 3}), (1, 7, {'count': 3}), (1, 8, {'count': 2}), (1, 9, {'count': 2}), (1, 10, {'count': 1}), (1, 11, {'count': 1}), (1, 12, {'count': 1}), (1, 13, {'count': 1}), (1, 14, {'count': 1}), (1, 15, {'count': 1}), (2, 1, {'count': 1}), (2, 16, {'count': 1}), (2, 17, {'count': 1}), (2, 3, {'count': 3}), (2, 4, {'count': 3}), (2, 18, {'count': 1}), (2, 5, {'count': 3}), (2, 19, {'count': 3}), (2, 6, {'count': 2}), (2, 8, {'count': 1}), (2, 20, {'count': 3}), (2, 9, {'count': 3}), (2, 11, {'count': 1}), (2, 21, {'count': 1}), (2, 12, {'count': 3}), (3, 1, {'count': 1}), (3, 2, {'count': 3}), (3, 4, {'count': 3}), (3, 5, {'count': 3}), (3, 19, {'count': 2}), (3, 6, {'count': 3}), (3, 8, {'count': 1}), (3, 20, {'count': 3}), (3, 9, {'count': 3}), (3, 11, {'count': 3}), (3, 21, {'count': 1}), (3, 12, {'count': 3}), (3, 13, {'count': 1}), (3, 23, {'count': 1}), (3, 15, {'count': 1}), (3, 24, {'count': 2}), (3, 25, {'count': 1}), (4, 1, {'count': 3}), (4, 2, {'count': 3}), (4, 16, {'count': 3}), (4, 17, {'count': 3}), (4, 3, {'count': 3}), (4, 18, {'count': 1}), (4, 5, {'count': 3}), (4, 19, {'count': 2}), (4, 6, {'count': 3}), (4, 7, {'count': 2}), (4, 8, {'count': 1}), (4, 20, {'count': 1}), (4, 9, {'count': 1}), (4, 10, {'count': 1}), (4, 11, {'count': 1}), (4, 21, {'count': 2}), (4, 12, {'count': 2}), (4, 13, {'count': 2}), (4, 23, {'count': 2}), (4, 26, {'count': 2}), (4, 14, {'count': 2}), (4, 15, {'count': 2}), (4, 25, {'count': 2}), (5, 1, {'count': 3}), (5, 2, {'count': 3}), (5, 16, {'count': 3}), (5, 17, {'count': 3}), (5, 3, {'count': 3}), (5, 4, {'count': 3}), (5, 18, {'count': 3}), (5, 19, {'count': 3}), (5, 6, {'count': 3}), (5, 7, {'count': 3}), (5, 27, {'count': 2}), (5, 8, {'count': 3}), (5, 20, {'count': 2}), (5, 9, {'count': 3}), (5, 10, {'count': 3}), (5, 28, {'count': 1}), (5, 11, {'count': 2}), (5, 21, {'count': 3}), (5, 12, {'count': 3}), (5, 13, {'count': 3}), (5, 23, {'count': 2}), (5, 26, {'count': 3}), (5, 29, {'count': 1}), (5, 14, {'count': 1}), (5, 15, {'count': 2}), (5, 24, {'count': 2}), (5, 25, {'count': 2}), (6, 1, {'count': 3}), (6, 2, {'count': 3}), (6, 16, {'count': 3}), (6, 17, {'count': 3}), (6, 3, {'count': 3}), (6, 4, {'count': 3}), (6, 18, {'count': 3}), (6, 5, {'count': 3}), (6, 19, {'count': 3}), (6, 7, {'count': 3}), (6, 27, {'count': 2}), (6, 8, {'count': 3}), (6, 20, {'count': 1}), (6, 9, {'count': 3}), (6, 10, {'count': 1}), (6, 28, {'count': 1}), (6, 11, {'count': 2}), (6, 21, {'count': 3}), (6, 12, {'count': 3}), (6, 13, {'count': 3}), (6, 23, {'count': 2}), (6, 26, {'count': 1}), (6, 29, {'count': 1}), (6, 14, {'count': 1}), (6, 15, {'count': 1}), (6, 24, {'count': 1}), (6, 25, {'count': 1}), (7, 1, {'count': 3}), (7, 2, {'count': 1}), (7, 16, {'count': 1}), (7, 3, {'count': 2}), (7, 4, {'count': 2}), (7, 5, {'count': 2}), (7, 6, {'count': 3}), (7, 8, {'count': 2}), (7, 20, {'count': 1}), (7, 9, {'count': 2}), (7, 10, {'count': 1}), (7, 13, {'count': 1}), (8, 2, {'count': 1}), (8, 3, {'count': 1}), (8, 6, {'count': 1}), (8, 20, {'count': 2}), (8, 9, {'count': 2}), (8, 10, {'count': 2}), (8, 11, {'count': 3}), (8, 21, {'count': 3}), (8, 12, {'count': 3}), (8, 13, {'count': 3}), (8, 23, {'count': 3}), (8, 26, {'count': 2}), (8, 14, {'count': 3}), (8, 15, {'count': 3}), (9, 1, {'count': 1}), (9, 2, {'count': 1}), (9, 3, {'count': 1}), (9, 19, {'count': 1}), (9, 6, {'count': 1}), (9, 7, {'count': 1}), (9, 8, {'count': 3}), (9, 20, {'count': 3}), (9, 10, {'count': 2}), (9, 11, {'count': 1}), (9, 21, {'count': 3}), (9, 12, {'count': 3}), (9, 13, {'count': 3}), (9, 23, {'count': 2}), (9, 26, {'count': 1}), (9, 14, {'count': 1}), (10, 1, {'count': 1}), (10, 6, {'count': 1}), (10, 7, {'count': 1}), (10, 27, {'count': 1}), (10, 8, {'count': 1}), (10, 20, {'count': 1}), (10, 9, {'count': 1}), (10, 11, {'count': 1}), (10, 26, {'count': 3}), (10, 14, {'count': 1}), (10, 24, {'count': 1}), (10, 25, {'count': 2}), (11, 8, {'count': 3}), (11, 20, {'count': 2}), (11, 9, {'count': 2}), (11, 10, {'count': 1}), (11, 28, {'count': 1}), (11, 21, {'count': 3}), (11, 12, {'count': 3}), (11, 13, {'count': 3}), (11, 23, {'count': 3}), (11, 26, {'count': 3}), (11, 14, {'count': 1}), (11, 15, {'count': 2}), (11, 24, {'count': 1}), (11, 25, {'count': 1}), (12, 1, {'count': 1}), (12, 2, {'count': 1}), (12, 3, {'count': 1}), (12, 6, {'count': 1}), (12, 8, {'count': 3}), (12, 9, {'count': 3}), (12, 11, {'count': 3}), (12, 21, {'count': 3}), (12, 13, {'count': 3}), (12, 23, {'count': 3}), (13, 2, {'count': 1}), (13, 3, {'count': 1}), (13, 6, {'count': 1}), (13, 8, {'count': 3}), (13, 20, {'count': 3}), (13, 9, {'count': 2}), (13, 11, {'count': 3}), (13, 21, {'count': 3}), (13, 12, {'count': 3}), (13, 23, {'count': 3}), (13, 14, {'count': 3}), (13, 15, {'count': 3}), (13, 25, {'count': 1}), (14, 8, {'count': 1}), (14, 20, {'count': 1}), (14, 9, {'count': 1}), (14, 11, {'count': 1}), (14, 21, {'count': 3}), (14, 13, {'count': 3}), (14, 23, {'count': 1}), (14, 15, {'count': 3}), (15, 8, {'count': 1}), (15, 10, {'count': 2}), (15, 11, {'count': 1}), (15, 21, {'count': 1}), (15, 12, {'count': 1}), (15, 13, {'count': 1}), (15, 14, {'count': 3}), (15, 24, {'count': 1}), (15, 25, {'count': 1}), (16, 17, {'count': 3}), (16, 18, {'count': 3}), (16, 5, {'count': 2}), (16, 22, {'count': 1}), (16, 6, {'count': 3}), (17, 2, {'count': 1}), (17, 16, {'count': 3}), (17, 3, {'count': 1}), (17, 4, {'count': 1}), (17, 18, {'count': 1}), (17, 19, {'count': 2}), (18, 16, {'count': 3}), (19, 2, {'count': 3}), (19, 3, {'count': 3}), (19, 5, {'count': 1}), (19, 22, {'count': 1}), (19, 6, {'count': 1}), (19, 7, {'count': 1}), (20, 3, {'count': 1}), (20, 8, {'count': 2}), (20, 9, {'count': 3}), (20, 11, {'count': 2}), (20, 21, {'count': 2}), (20, 12, {'count': 3}), (20, 13, {'count': 2}), (20, 23, {'count': 2}), (20, 26, {'count': 2}), (20, 14, {'count': 1}), (20, 15, {'count': 1}), (20, 24, {'count': 1}), (20, 25, {'count': 1}), (21, 2, {'count': 1}), (21, 3, {'count': 1}), (21, 6, {'count': 1}), (21, 27, {'count': 1}), (21, 8, {'count': 3}), (21, 20, {'count': 3}), (21, 9, {'count': 3}), (21, 11, {'count': 3}), (21, 12, {'count': 3}), (21, 13, {'count': 3}), (21, 23, {'count': 3}), (21, 26, {'count': 1}), (21, 29, {'count': 1}), (21, 14, {'count': 1}), (21, 15, {'count': 3}), (22, 1, {'count': 2}), (22, 2, {'count': 2}), (22, 16, {'count': 2}), (22, 17, {'count': 1}), (22, 18, {'count': 1}), (22, 5, {'count': 3}), (22, 6, {'count': 3}), (22, 7, {'count': 1}), (22, 8, {'count': 1}), (22, 9, {'count': 2}), (22, 10, {'count': 1}), (22, 28, {'count': 1}), (22, 11, {'count': 1}), (22, 23, {'count': 2}), (22, 26, {'count': 1}), (22, 29, {'count': 1}), (22, 14, {'count': 3}), (22, 24, {'count': 1}), (22, 25, {'count': 1}), (23, 8, {'count': 3}), (23, 20, {'count': 3}), (23, 9, {'count': 3}), (23, 11, {'count': 3}), (23, 21, {'count': 3}), (23, 12, {'count': 3}), (23, 13, {'count': 3}), (23, 26, {'count': 1}), (23, 29, {'count': 1}), (23, 14, {'count': 1}), (23, 15, {'count': 1}), (23, 25, {'count': 1}), (24, 2, {'count': 1}), (24, 17, {'count': 1}), (24, 3, {'count': 1}), (24, 5, {'count': 1}), (24, 22, {'count': 2}), (24, 7, {'count': 1}), (24, 27, {'count': 3}), (24, 20, {'count': 3}), (24, 10, {'count': 1}), (24, 21, {'count': 1}), (24, 12, {'count': 1}), (24, 23, {'count': 3}), (24, 26, {'count': 3}), (24, 14, {'count': 2}), (24, 15, {'count': 2}), (24, 25, {'count': 3}), (25, 2, {'count': 1}), (25, 17, {'count': 1}), (25, 5, {'count': 1}), (25, 22, {'count': 1}), (25, 27, {'count': 3}), (25, 10, {'count': 1}), (25, 23, {'count': 3}), (25, 26, {'count': 3}), (25, 14, {'count': 1}), (25, 15, {'count': 3}), (25, 24, {'count': 3}), (26, 27, {'count': 1}), (26, 8, {'count': 2}), (26, 20, {'count': 3}), (26, 9, {'count': 2}), (26, 10, {'count': 3}), (26, 28, {'count': 1}), (26, 11, {'count': 3}), (26, 21, {'count': 1}), (26, 12, {'count': 1}), (26, 13, {'count': 1}), (26, 23, {'count': 2}), (26, 29, {'count': 1}), (26, 14, {'count': 3}), (26, 15, {'count': 3}), (26, 24, {'count': 2}), (26, 25, {'count': 3}), (27, 8, {'count': 3}), (27, 20, {'count': 2}), (27, 9, {'count': 2}), (27, 10, {'count': 1}), (27, 28, {'count': 3}), (27, 11, {'count': 1}), (27, 21, {'count': 3}), (27, 12, {'count': 3}), (27, 13, {'count': 3}), (27, 23, {'count': 3}), (27, 26, {'count': 2}), (27, 29, {'count': 3}), (27, 14, {'count': 1}), (27, 15, {'count': 1}), (27, 25, {'count': 2}), (28, 5, {'count': 1}), (28, 22, {'count': 1}), (28, 27, {'count': 2}), (28, 9, {'count': 1}), (28, 29, {'count': 3}), (29, 5, {'count': 1}), (29, 22, {'count': 1}), (29, 6, {'count': 1}), (29, 27, {'count': 2}), (29, 28, {'count': 3})])"
      ]
     },
     "execution_count": 101,
     "metadata": {},
     "output_type": "execute_result"
    }
   ],
   "source": [
    "G.edges(data=True)"
   ]
  },
  {
   "cell_type": "code",
   "execution_count": 102,
   "metadata": {},
   "outputs": [],
   "source": [
    "# ans\n",
    "G.add_node(30, gender='male')\n",
    "G.add_node(31, gender ='female')\n",
    "G.add_edge(30,31,count=3)\n",
    "G.add_edge(31,30,count=3) # it is directional, so we need to do it both ways\n",
    "G.add_edge(30,7,count=3)\n",
    "G.add_edge(7,30,count=3)\n",
    "G.add_edge(7,31,count=3)\n",
    "G.add_edge(31,7,count=3)"
   ]
  },
  {
   "cell_type": "markdown",
   "metadata": {
    "slideshow": {
     "slide_type": "subslide"
    }
   },
   "source": [
    "You can verify that the graph has been correctly created\n",
    "by executing the test function below."
   ]
  },
  {
   "cell_type": "code",
   "execution_count": 103,
   "metadata": {
    "slideshow": {
     "slide_type": "fragment"
    }
   },
   "outputs": [
    {
     "name": "stdout",
     "output_type": "stream",
     "text": [
      "All tests passed.\n"
     ]
    }
   ],
   "source": [
    "def test_graph_integrity(G):\n",
    "    assert 30 in G.nodes()\n",
    "    assert 31 in G.nodes()\n",
    "    assert G.nodes[30]['gender'] == 'male'\n",
    "    assert G.nodes[31]['gender'] == 'female'\n",
    "    assert G.has_edge(30, 31)\n",
    "    assert G.has_edge(30, 7)\n",
    "    assert G.has_edge(31, 7)\n",
    "    assert G.edges[30, 7]['count'] == 3\n",
    "    assert G.edges[7, 30]['count'] == 3\n",
    "    assert G.edges[31, 7]['count'] == 3\n",
    "    assert G.edges[7, 31]['count'] == 3\n",
    "    assert G.edges[30, 31]['count'] == 3\n",
    "    assert G.edges[31, 30]['count'] == 3\n",
    "    print('All tests passed.')\n",
    "    \n",
    "test_graph_integrity(G)"
   ]
  },
  {
   "cell_type": "markdown",
   "metadata": {
    "slideshow": {
     "slide_type": "slide"
    }
   },
   "source": [
    "## Coding Patterns\n",
    "\n",
    "These are some recommended coding patterns when doing network analysis using NetworkX,\n",
    "which stem from my personal experience with the package."
   ]
  },
  {
   "cell_type": "markdown",
   "metadata": {
    "slideshow": {
     "slide_type": "subslide"
    }
   },
   "source": [
    "### Iterating using List Comprehensions\n",
    "I would recommend that you use the following for compactness: \n",
    "\n",
    "```python\n",
    "[d['attr'] for n, d in G.nodes(data=True)]\n",
    "```\n",
    "\n",
    "And if the node is unimportant, you can do:\n",
    "\n",
    "```python\n",
    "[d['attr'] for _, d in G.nodes(data=True)]\n",
    "```"
   ]
  },
  {
   "cell_type": "markdown",
   "metadata": {
    "slideshow": {
     "slide_type": "subslide"
    }
   },
   "source": [
    "### Iterating over Edges using List Comprehensions\n",
    "\n",
    "A similar pattern can be used for edges:\n",
    "\n",
    "```python\n",
    "[n2 for n1, n2, d in G.edges(data=True)]\n",
    "```\n",
    "\n",
    "or\n",
    "\n",
    "```python\n",
    "[n2 for _, n2, d in G.edges(data=True)]\n",
    "```\n",
    "\n",
    "If the graph you are constructing is a directed graph,\n",
    "with a \"source\" and \"sink\" available,\n",
    "then I would recommend the following naming of variables instead:\n",
    "\n",
    "```python\n",
    "[(sc, sk) for sc, sk, d in G.edges(data=True)]\n",
    "```\n",
    "\n",
    "or \n",
    "\n",
    "```python\n",
    "[d['attr'] for sc, sk, d in G.edges(data=True)]\n",
    "```"
   ]
  },
  {
   "cell_type": "markdown",
   "metadata": {},
   "source": [
    "## Further Reading\n",
    "\n",
    "For a deeper look at the NetworkX API,\n",
    "be sure to check out the [NetworkX docs][nxdocs].\n",
    "\n",
    "[nxdocs]: https://networkx.readthedocs.io"
   ]
  },
  {
   "cell_type": "markdown",
   "metadata": {},
   "source": [
    "## Further Exercises\n",
    "\n",
    "Here's some further exercises that you can use to get some practice.\n",
    "\n",
    "### Exercise: Unrequited Friendships\n",
    "\n",
    "> Try figuring out which students have \"unrequited\" friendships, that is, \n",
    "> they have rated another student as their favourite at least once, \n",
    "> but that other student has not rated them as their favourite at least once.\n",
    "\n",
    "_Hint: the goal here is to get a list of edges for which the reverse edge is not present._\n",
    "\n",
    "_Hint: You may need the class method `G.has_edge(n1, n2)`. This returns whether a graph has an edge between the nodes `n1` and `n2`._"
   ]
  },
  {
   "cell_type": "code",
   "execution_count": null,
   "metadata": {},
   "outputs": [],
   "source": [
    "# from nams.solutions.intro import unrequitted_friendships_v1\n",
    "#### REPLACE THE NEXT LINE WITH YOUR ANSWER\n",
    "unrequitted_friendships = intro.unrequitted_friendships_v1(G)\n",
    "assert len(unrequitted_friendships) == 124"
   ]
  },
  {
   "cell_type": "markdown",
   "metadata": {},
   "source": [
    "In a previous session at ODSC East 2018, a few other class participants provided the following solutions,\n",
    "which you can take a look at by uncommenting the following cells."
   ]
  },
  {
   "cell_type": "markdown",
   "metadata": {},
   "source": [
    "This first one by [@schwanne](https://github.com/schwanne) is the list comprehension version of the above solution:"
   ]
  },
  {
   "cell_type": "code",
   "execution_count": null,
   "metadata": {},
   "outputs": [],
   "source": [
    "from nams.solutions.intro import unrequitted_friendships_v2\n",
    "# unrequitted_friendships_v2??"
   ]
  },
  {
   "cell_type": "markdown",
   "metadata": {},
   "source": [
    "This one by [@end0](https://github.com/end0) is a unique one involving sets."
   ]
  },
  {
   "cell_type": "code",
   "execution_count": null,
   "metadata": {},
   "outputs": [],
   "source": [
    "from nams.solutions.intro import unrequitted_friendships_v3\n",
    "# unrequitted_friendships_v3??"
   ]
  },
  {
   "cell_type": "markdown",
   "metadata": {},
   "source": [
    "## Solution Answers\n",
    "\n",
    "Here are the answers to the exercises above."
   ]
  },
  {
   "cell_type": "code",
   "execution_count": null,
   "metadata": {
    "tags": []
   },
   "outputs": [],
   "source": [
    "import nams.solutions.intro as solutions\n",
    "import inspect\n",
    "\n",
    "print(inspect.getsource(solutions))"
   ]
  }
 ],
 "metadata": {
  "anaconda-cloud": {},
  "celltoolbar": "Slideshow",
  "kernelspec": {
   "display_name": "Python 3",
   "language": "python",
   "name": "python3"
  },
  "language_info": {
   "codemirror_mode": {
    "name": "ipython",
    "version": 3
   },
   "file_extension": ".py",
   "mimetype": "text/x-python",
   "name": "python",
   "nbconvert_exporter": "python",
   "pygments_lexer": "ipython3",
   "version": "3.9.5"
  },
  "toc": {
   "colors": {
    "hover_highlight": "#DAA520",
    "navigate_num": "#000000",
    "navigate_text": "#333333",
    "running_highlight": "#FF0000",
    "selected_highlight": "#FFD700",
    "sidebar_border": "#EEEEEE",
    "wrapper_background": "#FFFFFF"
   },
   "moveMenuLeft": true,
   "nav_menu": {
    "height": "297px",
    "width": "252px"
   },
   "navigate_menu": true,
   "number_sections": true,
   "sideBar": true,
   "threshold": 4,
   "toc_cell": false,
   "toc_position": {
    "height": "530px",
    "left": "0px",
    "right": "1068px",
    "top": "33px",
    "width": "212px"
   },
   "toc_section_display": "block",
   "toc_window_display": true,
   "widenNotebook": false
  },
  "varInspector": {
   "cols": {
    "lenName": 16,
    "lenType": 16,
    "lenVar": 40
   },
   "kernels_config": {
    "python": {
     "delete_cmd_postfix": "",
     "delete_cmd_prefix": "del ",
     "library": "var_list.py",
     "varRefreshCmd": "print(var_dic_list())"
    },
    "r": {
     "delete_cmd_postfix": ") ",
     "delete_cmd_prefix": "rm(",
     "library": "var_list.r",
     "varRefreshCmd": "cat(var_dic_list()) "
    }
   },
   "types_to_exclude": [
    "module",
    "function",
    "builtin_function_or_method",
    "instance",
    "_Feature"
   ],
   "window_display": false
  }
 },
 "nbformat": 4,
 "nbformat_minor": 4
}
